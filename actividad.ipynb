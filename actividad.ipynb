{
 "cells": [
  {
   "cell_type": "markdown",
   "id": "498731c6",
   "metadata": {},
   "source": [
    "# Actividad - Trabajando con Series de Pandas.\n",
    "## Criterios de evaluación.\n",
    "\n",
    "* Se deben utilizar nombres de variables descriptivos y claros (Utilizar la nomeclatura correspondiente para los nombres de variables).\n",
    "* Comentarios claros y concisos que expliquen el propósito de cada sección del código.\n",
    "* Utilizar mensajes de commit **descriptivos**. (Puedes utilizar la extension CONVENTIONAL COMMIT de VS-CODE). \n",
    "* Entrega en tiempo y forma.\n",
    "* Todo el código desarrollado debe ser subido a un repositorio en GitHub (el nombre del repositorio de seguir la siguiente estructura: actividad_tlp3_nombre_apellido).\n",
    "* Para resolver las actividades se debe insertar casillas de codigo entre cada actividad del cuaderno de Jupyter\n",
    "\n",
    "### ¡Importante!\n",
    "**El incumplimiento de los criterios de evaluación restará puntos en la nota final del práctico!**"
   ]
  },
  {
   "cell_type": "markdown",
   "id": "b361a7b6",
   "metadata": {},
   "source": [
    "### **Actividad 1:** \n",
    "\n",
    "Crear Series desde diferentes estructuras.\n",
    "* Crea una Series con los números del 1 al 5\n",
    "* Crea una Series a partir de un diccionario con nombres de países como claves y sus capitales como valores."
   ]
  },
  {
   "cell_type": "code",
   "execution_count": null,
   "id": "26009294",
   "metadata": {},
   "outputs": [
    {
     "name": "stdout",
     "output_type": "stream",
     "text": [
      "Los numero en serie son:\n",
      "0    1\n",
      "1    2\n",
      "2    3\n",
      "3    4\n",
      "4    5\n",
      "dtype: int64\n",
      "Los paises y sus capitales son:\n",
      "Argentina    Buenos Aires\n",
      "Colombia           Bogota\n",
      "Chile            Santiago\n",
      "Peru                 Lima\n",
      "Brasil           Brasilia\n",
      "dtype: object\n"
     ]
    }
   ],
   "source": [
    "\n",
    "#?Crea una Series con los números del 1 al 5\n",
    "import pandas as pd\n",
    "numero_series = pd.Series([1,2,3,4,5])\n",
    "print(\"Los numero en serie son:\")\n",
    "print(numero_series)\n",
    "\n",
    "#? Crea una Series a partir de un diccionario con nombres de países como claves y sus capitales como valores.\n",
    "diccionario_paises = {\n",
    "    \"Argentina\": \"Buenos Aires\",\n",
    "    \"Colombia\": \"Bogota\",\n",
    "    \"Chile\": \"Santiago\",\n",
    "    \"Peru\": \"Lima\",\n",
    "    \"Brasil\": \"Brasilia\"\n",
    "}\n",
    "diccionario_paises = pd.Series(diccionario_paises)\n",
    "print(\"Los paises y sus capitales son:\")\n",
    "print(diccionario_paises)"
   ]
  },
  {
   "cell_type": "markdown",
   "id": "0c239195",
   "metadata": {},
   "source": [
    "### **Actividad 2:** \n",
    "Acceso y selección de elementos.\n",
    "* Usa una Series con tareas (que haceres cotidianos) de una semana\n",
    "* Accede a diferentes elementos a elección.\n",
    "* Cambia los valores de los dias pares.\n"
   ]
  },
  {
   "cell_type": "code",
   "execution_count": null,
   "id": "3611d25a",
   "metadata": {},
   "outputs": [
    {
     "name": "stdout",
     "output_type": "stream",
     "text": [
      "Las tareas de los lunes son:\n",
      "Limpiar el baño\n",
      "Las tareas de los viernes son:\n",
      "Pasear al gato\n",
      "La Lista de tareas actualizada es:\n",
      "Lunes          Limpiar el baño\n",
      "Martes       Limpiar la cocina\n",
      "Miercoles      Pasear al perro\n",
      "Jueves         Limpiar la casa\n",
      "Viernes         Pasear al gato\n",
      "Sabado           Lavar la ropa\n",
      "Domingo         Pasear al gato\n",
      "dtype: object\n"
     ]
    }
   ],
   "source": [
    "#* Accede a diferentes elementos a elección\n",
    "\n",
    "tarea_cotidianas = pd.Series( {\n",
    "    \"Lunes\": \"Limpiar el baño\",\n",
    "    \"Martes\": \"Sacar al perro\",\n",
    "    \"Miercoles\": \"Pasear al perro\",\n",
    "    \"Jueves\": \"Sacar al gato\",\n",
    "    \"Viernes\": \"Pasear al gato\",\n",
    "    \"Sabado\": \"Pasear al perro\",\n",
    "    \"Domingo\": \"Pasear al gato\"\n",
    "})\n",
    "#* Accede a diferentes elementos a elección\n",
    "\n",
    "print(\"Las tareas de los lunes son:\")\n",
    "print(tarea_cotidianas[\"Lunes\"])\n",
    "print(\"Las tareas de los viernes son:\")\n",
    "print(tarea_cotidianas[\"Viernes\"])\n",
    "\n",
    "#* Cambia los valores de los dias pares.\n",
    "tarea_cotidianas[\"Martes\"] = \"Limpiar la cocina\"\n",
    "tarea_cotidianas[\"Jueves\"] = \"Limpiar la casa\"\n",
    "tarea_cotidianas[\"Sabado\"] = \"Lavar la ropa\"\n",
    "\n",
    "print(\"La Lista de tareas actualizada es:\")\n",
    "print(tarea_cotidianas)"
   ]
  },
  {
   "cell_type": "markdown",
   "id": "70a24b97",
   "metadata": {},
   "source": [
    "### **Actividad 3:**\n",
    "Operaciones aritméticas. \n",
    "* Realiza las operaciones basicas con 2 series cuales quieran.\n",
    "* Eleva los valores de la primer serie a 3 potencias difetentes."
   ]
  },
  {
   "cell_type": "code",
   "execution_count": 9,
   "id": "a9c8ebc7",
   "metadata": {},
   "outputs": [
    {
     "name": "stdout",
     "output_type": "stream",
     "text": [
      "Suma de las Series:\n",
      "0     3\n",
      "1     7\n",
      "2    11\n",
      "3    15\n",
      "4    19\n",
      "dtype: int64\n",
      "\n",
      "Resta de las Series:\n",
      "0    1\n",
      "1    1\n",
      "2    1\n",
      "3    1\n",
      "4    1\n",
      "dtype: int64\n",
      "\n",
      "Multiplicación de las Series:\n",
      "0     2\n",
      "1    12\n",
      "2    30\n",
      "3    56\n",
      "4    90\n",
      "dtype: int64\n",
      "\n",
      "División de las Series:\n",
      "0    2.000000\n",
      "1    1.333333\n",
      "2    1.200000\n",
      "3    1.142857\n",
      "4    1.111111\n",
      "dtype: float64\n",
      "\n",
      "Serie1 elevada al cuadrado:\n",
      "0      4\n",
      "1     16\n",
      "2     36\n",
      "3     64\n",
      "4    100\n",
      "dtype: int64\n",
      "\n",
      "Serie1 elevada al cubo:\n",
      "0       8\n",
      "1      64\n",
      "2     216\n",
      "3     512\n",
      "4    1000\n",
      "dtype: int64\n",
      "\n",
      "Serie1 elevada a la cuarta potencia:\n",
      "0       16\n",
      "1      256\n",
      "2     1296\n",
      "3     4096\n",
      "4    10000\n",
      "dtype: int64\n"
     ]
    }
   ],
   "source": [
    "serie1 = pd.Series([2, 4, 6, 8, 10])\n",
    "serie2 = pd.Series([1, 3, 5, 7, 9])\n",
    "\n",
    "suma = serie1 + serie2\n",
    "resta = serie1 - serie2\n",
    "multiplicacion = serie1 * serie2\n",
    "division = serie1 / serie2\n",
    "\n",
    "print(\"Suma de las Series:\")\n",
    "print(suma)\n",
    "print(\"\\nResta de las Series:\")\n",
    "print(resta)\n",
    "print(\"\\nMultiplicación de las Series:\")\n",
    "print(multiplicacion)\n",
    "print(\"\\nDivisión de las Series:\")\n",
    "print(division)\n",
    "\n",
    "potencia_2 = serie1 ** 2\n",
    "potencia_3 = serie1 ** 3\n",
    "potencia_4 = serie1 ** 4\n",
    "\n",
    "print(\"\\nSerie1 elevada al cuadrado:\")\n",
    "print(potencia_2)\n",
    "print(\"\\nSerie1 elevada al cubo:\")\n",
    "print(potencia_3)\n",
    "print(\"\\nSerie1 elevada a la cuarta potencia:\")\n",
    "print(potencia_4)"
   ]
  },
  {
   "cell_type": "markdown",
   "id": "b8dac397",
   "metadata": {},
   "source": [
    "### **Actividad 4:** \n",
    "Filtrado con condiciones.\n",
    "* Crea una Series de edades de 10 personas.\n",
    "* Muestra solo a los mayores de 18.\n",
    "* Reemplaza a los menores por \"Menor de edad\"."
   ]
  },
  {
   "cell_type": "code",
   "execution_count": null,
   "id": "d04fd492",
   "metadata": {},
   "outputs": [
    {
     "name": "stdout",
     "output_type": "stream",
     "text": [
      "Personas mayores de edad:\n",
      "3    24\n",
      "5    28\n",
      "6    30\n",
      "8    34\n",
      "9    36\n",
      "dtype: object\n",
      "\n",
      "La edad de persona Actualizada es:\n",
      "0               18\n",
      "1    Menor de edad\n",
      "2    Menor de edad\n",
      "3               24\n",
      "4    Menor de edad\n",
      "5               28\n",
      "6               30\n",
      "7    Menor de edad\n",
      "8               34\n",
      "9               36\n",
      "dtype: object\n"
     ]
    }
   ],
   "source": [
    "#* Crea una Series de edades de 10 personas.\n",
    "edades = pd.Series([ 18,4,2,24,15,28,30,6,34,36])\n",
    "#* Cambiamos la variable edaddes a tipo objeto para que pueda abmitir strings\n",
    "edades = edades.astype(object)\n",
    "#* Muestra solo a los mayores de 18.\n",
    "mayores_de_edad =  edades[edades > 18]\n",
    "print(\"Personas mayores de edad:\")\n",
    "print(mayores_de_edad)\n",
    "#* Reemplaza a los menores por \"Menor de edad\".\n",
    "edades[edades < 18] = \"Menor de edad\"\n",
    "print(\"\\nLa edad de persona Actualizada es:\")\n",
    "print(edades)\n"
   ]
  },
  {
   "cell_type": "markdown",
   "id": "8889d0f2",
   "metadata": {},
   "source": [
    "### Actividad 5:\n",
    "Estadísticas básicas.\n",
    "\n",
    "* Crea una Series con las notas de 10 estudiantes.\n",
    "* Calcula la media, mediana, desviación estándar y máximo.\n",
    "* Muestra cuántos estudiantes aprobaron si el mínimo para aprobar es 6.\n",
    "* Ordenar las notas de manera ascendente y descendente. "
   ]
  },
  {
   "cell_type": "code",
   "execution_count": null,
   "id": "bc0ec844",
   "metadata": {},
   "outputs": [],
   "source": [
    "\n",
    "# todo:\n"
   ]
  }
 ],
 "metadata": {
  "kernelspec": {
   "display_name": "Python 3",
   "language": "python",
   "name": "python3"
  },
  "language_info": {
   "codemirror_mode": {
    "name": "ipython",
    "version": 3
   },
   "file_extension": ".py",
   "mimetype": "text/x-python",
   "name": "python",
   "nbconvert_exporter": "python",
   "pygments_lexer": "ipython3",
   "version": "3.11.9"
  }
 },
 "nbformat": 4,
 "nbformat_minor": 5
}
